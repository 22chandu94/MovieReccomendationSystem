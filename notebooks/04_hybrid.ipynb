{
 "cells": [
  {
   "cell_type": "code",
   "execution_count": null,
   "id": "d6745f9c-c4af-418c-985c-ac0f6489d550",
   "metadata": {},
   "outputs": [],
   "source": [
    "def hybrid_recommend(user_id, movie_title, algo, cosine_sim, movies, ratings, alpha=0.5, n=5):\n",
    "    # Content similarity\n",
    "    idx = movies[movies['title'].str.lower() == movie_title.lower()].index[0]\n",
    "    sim_scores = cosine_sim[idx]\n",
    "    movies['content_score'] = sim_scores\n",
    "    movies['collab_score'] = movies['movieid'].apply(lambda mid: algo.predict(user_id, mid).est)\n",
    "    movies['hybrid_score'] = alpha * movies['content_score'] + (1 - alpha) * movies['collab_score']\n",
    "    seen = set(ratings[ratings.userid == user_id].movieid)\n",
    "    recs = movies[~movies.movieid.isin(seen)]\n",
    "    recs = recs.sort_values('hybrid_score', ascending=False).head(n)\n",
    "    return recs[['title', 'hybrid_score']]"
   ]
  },
  {
   "cell_type": "code",
   "execution_count": null,
   "id": "31663698-9bf1-42cc-983a-508c94de3f7e",
   "metadata": {},
   "outputs": [],
   "source": [
    "print(hybrid_recommend(\n",
    "    user_id=demo_user_id,\n",
    "    movie_title='Toy Story (1995)',\n",
    "    algo=algo,\n",
    "    cosine_sim=cosine_sim,\n",
    "    movies=movies,\n",
    "    ratings=ratings,\n",
    "    alpha=0.5,\n",
    "    n=5\n",
    "))"
   ]
  },
  {
   "cell_type": "code",
   "execution_count": null,
   "id": "ff47535d-c47e-43aa-9d02-436bb65bfc25",
   "metadata": {},
   "outputs": [],
   "source": []
  }
 ],
 "metadata": {
  "kernelspec": {
   "display_name": "Python 3 (ipykernel)",
   "language": "python",
   "name": "python3"
  },
  "language_info": {
   "codemirror_mode": {
    "name": "ipython",
    "version": 3
   },
   "file_extension": ".py",
   "mimetype": "text/x-python",
   "name": "python",
   "nbconvert_exporter": "python",
   "pygments_lexer": "ipython3",
   "version": "3.13.0"
  }
 },
 "nbformat": 4,
 "nbformat_minor": 5
}
