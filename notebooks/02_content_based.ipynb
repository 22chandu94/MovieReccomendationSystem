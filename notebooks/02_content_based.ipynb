{
 "cells": [
  {
   "cell_type": "code",
   "execution_count": null,
   "id": "973d88d0-416c-4798-81f4-aa2dc844b8ca",
   "metadata": {},
   "outputs": [],
   "source": [
    "# 1. Imports"
   ]
  },
  {
   "cell_type": "code",
   "execution_count": null,
   "id": "7a7b2ca6-8d12-4572-8153-291bb706b770",
   "metadata": {},
   "outputs": [],
   "source": [
    "import pandas as pd\n",
    "from sklearn.feature_extraction.text import TfidfVectorizer\n",
    "from sklearn.metrics.pairwise import linear_kernel"
   ]
  },
  {
   "cell_type": "code",
   "execution_count": null,
   "id": "1ba4db67-c3cd-426e-b95c-04388fe96a1b",
   "metadata": {},
   "outputs": [],
   "source": [
    "# Load Data"
   ]
  },
  {
   "cell_type": "code",
   "execution_count": null,
   "id": "7b8225b7-790b-4dd6-ade7-bc38f509030e",
   "metadata": {},
   "outputs": [],
   "source": [
    "movies = pd.read_csv('../data/movies.csv')"
   ]
  },
  {
   "cell_type": "code",
   "execution_count": null,
   "id": "0666dc0f-604c-4a54-be83-c22a0f68ff05",
   "metadata": {},
   "outputs": [],
   "source": [
    "# 2. Prepare genre strings (join with space)"
   ]
  },
  {
   "cell_type": "code",
   "execution_count": null,
   "id": "de82c227-893c-4a53-9716-276d740fda7f",
   "metadata": {},
   "outputs": [],
   "source": [
    "movies['genres_str'] = movies['genres'].str.replace('|', ' ')"
   ]
  },
  {
   "cell_type": "code",
   "execution_count": null,
   "id": "1bb78307-b0f7-430f-96be-5f160d0cdf3a",
   "metadata": {},
   "outputs": [],
   "source": [
    "# 3. TF-IDF Vectorization"
   ]
  },
  {
   "cell_type": "code",
   "execution_count": null,
   "id": "7ee65c79-7419-4fdf-9d7c-50db5f0cbc8f",
   "metadata": {},
   "outputs": [],
   "source": [
    "tfidf = TfidfVectorizer(stop_words='english')\n",
    "tfidf_matrix = tfidf.fit_transform(movies['genres_str'])"
   ]
  },
  {
   "cell_type": "code",
   "execution_count": null,
   "id": "221de9d4-5d9c-4af2-8064-137128f00910",
   "metadata": {},
   "outputs": [],
   "source": [
    "# 4. Compute cosine similarity"
   ]
  },
  {
   "cell_type": "code",
   "execution_count": null,
   "id": "e1443756-c226-4e40-b927-d8f5e7ed1968",
   "metadata": {},
   "outputs": [],
   "source": [
    "cosine_sim = linear_kernel(tfidf_matrix, tfidf_matrix)"
   ]
  },
  {
   "cell_type": "code",
   "execution_count": null,
   "id": "c43169b8-f182-4e85-bfb2-8d10b9234fbd",
   "metadata": {},
   "outputs": [],
   "source": [
    "# 5. Recommend similar movies"
   ]
  },
  {
   "cell_type": "code",
   "execution_count": null,
   "id": "4885d220-3604-4393-b3e6-1cf4a1aa3f80",
   "metadata": {},
   "outputs": [],
   "source": [
    "def get_recommendations(title, cosine_sim, movies, n=5):\n",
    "    idx = movies[movies['title'].str.lower() == title.lower()].index[0]\n",
    "    sim_scores = list(enumerate(cosine_sim[idx]))\n",
    "    sim_scores = sorted(sim_scores, key=lambda x: x[1], reverse=True)[1:n+1]\n",
    "    movie_indices = [i[0] for i in sim_scores]\n",
    "    return movies['title'].iloc[movie_indices]"
   ]
  },
  {
   "cell_type": "code",
   "execution_count": null,
   "id": "c4310763-1ddc-41bc-b58a-a8e09faa0bc4",
   "metadata": {},
   "outputs": [],
   "source": [
    "print(get_recommendations('Toy Story (1995)', cosine_sim, movies, n=5))"
   ]
  }
 ],
 "metadata": {
  "kernelspec": {
   "display_name": "Python 3 (ipykernel)",
   "language": "python",
   "name": "python3"
  },
  "language_info": {
   "codemirror_mode": {
    "name": "ipython",
    "version": 3
   },
   "file_extension": ".py",
   "mimetype": "text/x-python",
   "name": "python",
   "nbconvert_exporter": "python",
   "pygments_lexer": "ipython3",
   "version": "3.13.0"
  }
 },
 "nbformat": 4,
 "nbformat_minor": 5
}
