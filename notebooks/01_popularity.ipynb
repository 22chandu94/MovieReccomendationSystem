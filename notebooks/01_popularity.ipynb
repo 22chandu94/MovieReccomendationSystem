{
 "cells": [
  {
   "cell_type": "code",
   "execution_count": null,
   "id": "b7097861-682b-4fd6-9431-5a1f727d43e7",
   "metadata": {},
   "outputs": [],
   "source": [
    "# Import dependencies"
   ]
  },
  {
   "cell_type": "code",
   "execution_count": null,
   "id": "57462e4c-5c9c-4d4b-9ec4-744ac4739170",
   "metadata": {},
   "outputs": [],
   "source": [
    "import os\n",
    "import pandas as pd"
   ]
  },
  {
   "cell_type": "code",
   "execution_count": null,
   "id": "fd0fbb2f-75d4-4542-a37d-fb7b81fbba43",
   "metadata": {},
   "outputs": [],
   "source": [
    "# Load data"
   ]
  },
  {
   "cell_type": "code",
   "execution_count": 26,
   "id": "84fafe12-cb60-468a-8840-bafb85b5b0a7",
   "metadata": {},
   "outputs": [],
   "source": [
    "movies = pd.read_csv('../data/movies.csv')\n",
    "ratings = pd.read_csv('../data/ratings.csv')\n",
    "ratings = ratings.drop('timestamp', axis=1)"
   ]
  },
  {
   "cell_type": "code",
   "execution_count": null,
   "id": "436e9223-d081-4c3c-8036-c13bd840bd90",
   "metadata": {},
   "outputs": [],
   "source": [
    "# Calculate average rating and rating count"
   ]
  },
  {
   "cell_type": "code",
   "execution_count": 28,
   "id": "823c5a39-6ef4-4d95-8a0a-8bc2ab55ed4b",
   "metadata": {},
   "outputs": [],
   "source": [
    "movie_stats = ratings.groupby('movieId').agg(avg_rating=('rating', 'mean'), rating_count=('rating', 'count')).reset_index()"
   ]
  },
  {
   "cell_type": "code",
   "execution_count": null,
   "id": "fcf082f7-7d07-458e-955b-52d2b3b3ea30",
   "metadata": {},
   "outputs": [],
   "source": [
    "# Merge with movie titles"
   ]
  },
  {
   "cell_type": "code",
   "execution_count": 30,
   "id": "f00b42e3-7f19-4750-991f-e54ecb127836",
   "metadata": {},
   "outputs": [
    {
     "name": "stdout",
     "output_type": "stream",
     "text": [
      "       movieId  avg_rating  rating_count                               title\n",
      "0            1    3.893708         57309                    Toy Story (1995)\n",
      "1            2    3.251527         24228                      Jumanji (1995)\n",
      "2            3    3.142028         11804             Grumpier Old Men (1995)\n",
      "3            4    2.853547          2523            Waiting to Exhale (1995)\n",
      "4            5    3.058434         11714  Father of the Bride Part II (1995)\n",
      "...        ...         ...           ...                                 ...\n",
      "59042   209157    1.500000             1                           We (2018)\n",
      "59043   209159    3.000000             1           Window of the Soul (2001)\n",
      "59044   209163    4.500000             1                    Bad Poems (2018)\n",
      "59045   209169    3.000000             1                 A Girl Thing (2001)\n",
      "59046   209171    3.000000             1      Women of Devil's Island (1962)\n",
      "\n",
      "[59047 rows x 4 columns]\n"
     ]
    }
   ],
   "source": [
    "movie_stats = movie_stats.merge(movies[['movieId', 'title']], on='movieId')"
   ]
  },
  {
   "cell_type": "code",
   "execution_count": null,
   "id": "56f243cf-20bc-4897-b681-a4b52dfe028c",
   "metadata": {},
   "outputs": [],
   "source": [
    "# Recommend top N by rating count and high average rating"
   ]
  },
  {
   "cell_type": "code",
   "execution_count": 33,
   "id": "9f3839a2-7b02-4f3b-a5af-2f0599507086",
   "metadata": {},
   "outputs": [],
   "source": [
    "min_ratings = movie_stats['rating_count'].mean()\n",
    "top_movies = movie_stats[movie_stats['rating_count'] >= min_ratings]\n",
    "top_movies = top_movies.sort_values('avg_rating', ascending=False).head(10)"
   ]
  },
  {
   "cell_type": "code",
   "execution_count": 37,
   "id": "d3a985cf-d1e4-4afa-bb61-da2a1322360c",
   "metadata": {},
   "outputs": [
    {
     "name": "stdout",
     "output_type": "stream",
     "text": [
      "                                  title  avg_rating  rating_count\n",
      "42953            Planet Earth II (2016)    4.483096          1124\n",
      "38361               Planet Earth (2006)    4.464797          1747\n",
      "314    Shawshank Redemption, The (1994)    4.413576         81482\n",
      "42806           Band of Brothers (2001)    4.398599          1356\n",
      "840               Godfather, The (1972)    4.324336         52498\n",
      "46627             Blue Planet II (2017)    4.289833           659\n",
      "49           Usual Suspects, The (1995)    4.284353         55366\n",
      "1190     Godfather: Part II, The (1974)    4.261759         34188\n",
      "39898       Over the Garden Wall (2013)    4.258242           546\n",
      "45541                      Black Mirror    4.256579           456\n"
     ]
    }
   ],
   "source": [
    "print(top_movies[['title', 'avg_rating', 'rating_count']])"
   ]
  },
  {
   "cell_type": "code",
   "execution_count": null,
   "id": "ac9bc197-5d9b-4341-adae-c5024bc45f0a",
   "metadata": {},
   "outputs": [],
   "source": []
  }
 ],
 "metadata": {
  "kernelspec": {
   "display_name": "Python 3 (ipykernel)",
   "language": "python",
   "name": "python3"
  },
  "language_info": {
   "codemirror_mode": {
    "name": "ipython",
    "version": 3
   },
   "file_extension": ".py",
   "mimetype": "text/x-python",
   "name": "python",
   "nbconvert_exporter": "python",
   "pygments_lexer": "ipython3",
   "version": "3.13.0"
  }
 },
 "nbformat": 4,
 "nbformat_minor": 5
}
