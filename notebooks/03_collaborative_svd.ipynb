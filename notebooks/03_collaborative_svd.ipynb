{
 "cells": [
  {
   "cell_type": "code",
   "execution_count": null,
   "id": "acd66398-3729-4794-83bd-eea27197b7b0",
   "metadata": {},
   "outputs": [],
   "source": [
    "# 1. Imports"
   ]
  },
  {
   "cell_type": "code",
   "execution_count": null,
   "id": "aad64e19-45e7-4109-b754-a59abf94ee52",
   "metadata": {},
   "outputs": [],
   "source": [
    "import pandas as pd\n",
    "from surprise import Dataset, Reader, SVD\n",
    "from surprise.model_selection import train_test_split\n",
    "from surprise import accuracy"
   ]
  },
  {
   "cell_type": "code",
   "execution_count": null,
   "id": "0805b350-01a6-4256-b75b-87e54ed66223",
   "metadata": {},
   "outputs": [],
   "source": [
    "# 2. Data loading"
   ]
  },
  {
   "cell_type": "code",
   "execution_count": null,
   "id": "3798d1e5-2df7-49a5-9471-b6608f6d82ad",
   "metadata": {},
   "outputs": [],
   "source": [
    "ratings = pd.read_csv('../data/ratings.csv')"
   ]
  },
  {
   "cell_type": "code",
   "execution_count": null,
   "id": "b0c95cb5-a7e1-446f-8b8b-5e2dac06c4d2",
   "metadata": {},
   "outputs": [],
   "source": [
    "# 3. Prepare Surprise dataset"
   ]
  },
  {
   "cell_type": "code",
   "execution_count": null,
   "id": "4b3e0a13-20e4-48d9-8fab-ebec6172755a",
   "metadata": {},
   "outputs": [],
   "source": [
    "reader = Reader(rating_scale=(ratings.rating.min(), ratings.rating.max()))\n",
    "data = Dataset.load_from_df(ratings[['userid', 'movieid', 'rating']], reader)"
   ]
  },
  {
   "cell_type": "code",
   "execution_count": null,
   "id": "99b6a960-7cc0-49be-876a-af03b9574f94",
   "metadata": {},
   "outputs": [],
   "source": [
    "# 4. Train-test split"
   ]
  },
  {
   "cell_type": "code",
   "execution_count": null,
   "id": "614e4fa4-1db3-49fa-826e-d037a7f6622d",
   "metadata": {},
   "outputs": [],
   "source": [
    "trainset, testset = train_test_split(data, test_size=0.2, random_state=42)"
   ]
  },
  {
   "cell_type": "code",
   "execution_count": null,
   "id": "be7484ba-12ce-42df-bfe6-2be738d1ef69",
   "metadata": {},
   "outputs": [],
   "source": [
    "# 5. SVD training"
   ]
  },
  {
   "cell_type": "code",
   "execution_count": null,
   "id": "bf4032a4-b4cc-4a26-aabc-555fcdd0c32b",
   "metadata": {},
   "outputs": [],
   "source": [
    "algo = SVD()\n",
    "algo.fit(trainset)"
   ]
  },
  {
   "cell_type": "code",
   "execution_count": null,
   "id": "1e7baed1-f278-4dde-85d2-42f97a378c58",
   "metadata": {},
   "outputs": [],
   "source": [
    "# 6. Evaluation"
   ]
  },
  {
   "cell_type": "code",
   "execution_count": null,
   "id": "654fe483-4e3b-4810-bf9e-82483d39d6c6",
   "metadata": {},
   "outputs": [],
   "source": [
    "predictions = algo.test(testset)\n",
    "print('Test RMSE:', accuracy.rmse(predictions))"
   ]
  },
  {
   "cell_type": "code",
   "execution_count": null,
   "id": "6201602b-c7e1-4bef-bd25-7a37cf494f7c",
   "metadata": {},
   "outputs": [],
   "source": [
    "# 7. Recommend for a demo user"
   ]
  },
  {
   "cell_type": "code",
   "execution_count": null,
   "id": "64469747-7aaa-4543-80e1-2dd90891b90b",
   "metadata": {},
   "outputs": [],
   "source": [
    "def recommend_for_user(algo, user_id, movies, ratings, n=5):\n",
    "    seen_movieids = set(ratings[ratings.userid == user_id].movieid)\n",
    "    all_movieids = set(movies.movieid)\n",
    "    unseen = list(all_movieids - seen_movieids)\n",
    "    preds = [(mid, algo.predict(user_id, mid).est) for mid in unseen]\n",
    "    topn = sorted(preds, key=lambda x: x[1], reverse=True)[:n]\n",
    "    titles = movies.set_index('movieid').loc[[i[0] for i in topn]].title\n",
    "    return titles.reset_index(drop=True)"
   ]
  },
  {
   "cell_type": "code",
   "execution_count": null,
   "id": "98ee831c-6e55-48bb-b1d6-2f927a593fb1",
   "metadata": {},
   "outputs": [],
   "source": [
    "demo_user_id = ratings.userid.sample(1).iloc[0]\n",
    "print(recommend_for_user(algo, demo_user_id, movies, ratings))"
   ]
  }
 ],
 "metadata": {
  "kernelspec": {
   "display_name": "Python 3 (ipykernel)",
   "language": "python",
   "name": "python3"
  },
  "language_info": {
   "codemirror_mode": {
    "name": "ipython",
    "version": 3
   },
   "file_extension": ".py",
   "mimetype": "text/x-python",
   "name": "python",
   "nbconvert_exporter": "python",
   "pygments_lexer": "ipython3",
   "version": "3.13.0"
  }
 },
 "nbformat": 4,
 "nbformat_minor": 5
}
